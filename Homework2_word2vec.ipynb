{
  "nbformat": 4,
  "nbformat_minor": 0,
  "metadata": {
    "colab": {
      "name": "Homework2_word2vec.ipynb\"",
      "provenance": [],
      "collapsed_sections": [
        "BHedogiPm3D0",
        "eLBzRHKim3RB"
      ],
      "toc_visible": true,
      "include_colab_link": true
    },
    "kernelspec": {
      "display_name": "Python 3",
      "language": "python",
      "name": "python3"
    },
    "language_info": {
      "codemirror_mode": {
        "name": "ipython",
        "version": 3
      },
      "file_extension": ".py",
      "mimetype": "text/x-python",
      "name": "python",
      "nbconvert_exporter": "python",
      "pygments_lexer": "ipython3",
      "version": "3.6.8"
    }
  },
  "cells": [
    {
      "cell_type": "markdown",
      "metadata": {
        "id": "view-in-github",
        "colab_type": "text"
      },
      "source": [
        "<a href=\"https://colab.research.google.com/github/nikolmash/hse_neuronets2020/blob/main/Homework2_word2vec_ipynb%22.ipynb\" target=\"_parent\"><img src=\"https://colab.research.google.com/assets/colab-badge.svg\" alt=\"Open In Colab\"/></a>"
      ]
    },
    {
      "cell_type": "code",
      "metadata": {
        "id": "UNWxmGuEm2_o"
      },
      "source": [
        "import json\n",
        "import random\n",
        "from tqdm import tqdm\n",
        "import numpy as np\n",
        "\n",
        "from matplotlib import pyplot as plt\n",
        "from sklearn.decomposition import TruncatedSVD\n",
        "from sklearn.manifold import TSNE\n",
        "\n",
        "import torch\n",
        "\n",
        "from pylab import rcParams\n",
        "rcParams['figure.figsize'] = 15, 15"
      ],
      "execution_count": 1,
      "outputs": []
    },
    {
      "cell_type": "markdown",
      "metadata": {
        "id": "h2KJOc_3m3Ae"
      },
      "source": [
        "# Что делать?\n",
        "Где есть пометка # CODE писать код\n",
        "\n",
        "[Полезный туториал](http://jalammar.github.io/illustrated-word2vec/)"
      ]
    },
    {
      "cell_type": "markdown",
      "metadata": {
        "id": "daR7M_ZEm3Aj"
      },
      "source": [
        "# Загружаем данные\n",
        "Они уже обработанные и токенизированные. Процесс можно посмотреть в тетрадке 1.1 Processing corpus"
      ]
    },
    {
      "cell_type": "code",
      "metadata": {
        "id": "udYmpUvMm3Am"
      },
      "source": [
        "with open('processed_corpus.json') as f:\n",
        "    corpus = json.load(f)"
      ],
      "execution_count": 2,
      "outputs": []
    },
    {
      "cell_type": "code",
      "metadata": {
        "id": "R8uS7q1Qm3A7",
        "outputId": "950667c5-90ce-42bf-926d-2c667df8b273",
        "colab": {
          "base_uri": "https://localhost:8080/"
        }
      },
      "source": [
        "len(corpus)"
      ],
      "execution_count": 3,
      "outputs": [
        {
          "output_type": "execute_result",
          "data": {
            "text/plain": [
              "100000"
            ]
          },
          "metadata": {
            "tags": []
          },
          "execution_count": 3
        }
      ]
    },
    {
      "cell_type": "code",
      "metadata": {
        "id": "oSz3KFzvm3BV",
        "outputId": "79785200-a475-486a-80a6-495f6b3802ed",
        "colab": {
          "base_uri": "https://localhost:8080/"
        }
      },
      "source": [
        "for text in corpus[:5]:\n",
        "    print(' '.join(text))"
      ],
      "execution_count": 4,
      "outputs": [
        {
          "output_type": "stream",
          "text": [
            "второй UNK год окончательно разочаровать решить податься альфабанк\n",
            "вернуть денежный средство лицевой счёт либо зачесть счёт погашение кредит\n",
            "притом ситуация решиться участие течение сутки заявить\n",
            "мой ##число летний жизнь это самый неповоротливый работник банк который видеть\n",
            "везде написать вклад принимать очередь это\n"
          ],
          "name": "stdout"
        }
      ]
    },
    {
      "cell_type": "markdown",
      "metadata": {
        "id": "7S14ay5Ym3Bo"
      },
      "source": [
        "# CBOW"
      ]
    },
    {
      "cell_type": "code",
      "metadata": {
        "id": "XX73Iaevm3Bt"
      },
      "source": [
        "sample_text = corpus[1]"
      ],
      "execution_count": 5,
      "outputs": []
    },
    {
      "cell_type": "code",
      "metadata": {
        "id": "6OQz8X9Fm3CC",
        "outputId": "e6243757-6997-4702-b64a-8bb3ccd14819",
        "colab": {
          "base_uri": "https://localhost:8080/",
          "height": 0
        }
      },
      "source": [
        "' '.join(sample_text)"
      ],
      "execution_count": 6,
      "outputs": [
        {
          "output_type": "execute_result",
          "data": {
            "application/vnd.google.colaboratory.intrinsic+json": {
              "type": "string"
            },
            "text/plain": [
              "'вернуть денежный средство лицевой счёт либо зачесть счёт погашение кредит'"
            ]
          },
          "metadata": {
            "tags": []
          },
          "execution_count": 6
        }
      ]
    },
    {
      "cell_type": "markdown",
      "metadata": {
        "id": "93vbe720m3CU"
      },
      "source": [
        "# Реализуйте разделение предложения на примеры методом CBOW"
      ]
    },
    {
      "cell_type": "code",
      "metadata": {
        "id": "EEcSs6JDm3CX"
      },
      "source": [
        "def cbow_split(tokens, window, pad_token='PAD'):\n",
        "    \n",
        "    splits = []\n",
        "    \n",
        "    left_pad = [pad_token]*window\n",
        "    right_pad = [pad_token]*window\n",
        "    \n",
        "    left_pad.extend(tokens)\n",
        "    left_pad.extend(right_pad)\n",
        "\n",
        "    tokens_with_pad = left_pad\n",
        "\n",
        "    for i in range(len(tokens_with_pad)-(2*window)):\n",
        "      left_context = tokens_with_pad[i:i+window]\n",
        "      central_word = tokens_with_pad[i+window]\n",
        "      right_context = tokens_with_pad[i+window+1:i+2*window+1]\n",
        "      splits.append((left_context, central_word, right_context))\n",
        "\n",
        "        \n",
        "    return splits"
      ],
      "execution_count": 7,
      "outputs": []
    },
    {
      "cell_type": "code",
      "metadata": {
        "id": "CvHJ10H2m3Cv"
      },
      "source": [
        "splits = cbow_split(sample_text, window=2)"
      ],
      "execution_count": 8,
      "outputs": []
    },
    {
      "cell_type": "code",
      "metadata": {
        "id": "_kYwiFn6m3C-",
        "outputId": "0e2f3c38-14a5-4c33-bcb9-5ede8f273d3a",
        "colab": {
          "base_uri": "https://localhost:8080/"
        }
      },
      "source": [
        "for sample in splits:\n",
        "    print('Левый контекст:', sample[0])\n",
        "    print('Центральное слово:', sample[1])\n",
        "    print('Правый контекст:', sample[2], end='\\n\\n')"
      ],
      "execution_count": 9,
      "outputs": [
        {
          "output_type": "stream",
          "text": [
            "Левый контекст: ['PAD', 'PAD']\n",
            "Центральное слово: вернуть\n",
            "Правый контекст: ['денежный', 'средство']\n",
            "\n",
            "Левый контекст: ['PAD', 'вернуть']\n",
            "Центральное слово: денежный\n",
            "Правый контекст: ['средство', 'лицевой']\n",
            "\n",
            "Левый контекст: ['вернуть', 'денежный']\n",
            "Центральное слово: средство\n",
            "Правый контекст: ['лицевой', 'счёт']\n",
            "\n",
            "Левый контекст: ['денежный', 'средство']\n",
            "Центральное слово: лицевой\n",
            "Правый контекст: ['счёт', 'либо']\n",
            "\n",
            "Левый контекст: ['средство', 'лицевой']\n",
            "Центральное слово: счёт\n",
            "Правый контекст: ['либо', 'зачесть']\n",
            "\n",
            "Левый контекст: ['лицевой', 'счёт']\n",
            "Центральное слово: либо\n",
            "Правый контекст: ['зачесть', 'счёт']\n",
            "\n",
            "Левый контекст: ['счёт', 'либо']\n",
            "Центральное слово: зачесть\n",
            "Правый контекст: ['счёт', 'погашение']\n",
            "\n",
            "Левый контекст: ['либо', 'зачесть']\n",
            "Центральное слово: счёт\n",
            "Правый контекст: ['погашение', 'кредит']\n",
            "\n",
            "Левый контекст: ['зачесть', 'счёт']\n",
            "Центральное слово: погашение\n",
            "Правый контекст: ['кредит', 'PAD']\n",
            "\n",
            "Левый контекст: ['счёт', 'погашение']\n",
            "Центральное слово: кредит\n",
            "Правый контекст: ['PAD', 'PAD']\n",
            "\n"
          ],
          "name": "stdout"
        }
      ]
    },
    {
      "cell_type": "code",
      "metadata": {
        "id": "ZUGUht0Dm3DT",
        "outputId": "4188a697-7bce-4611-cf5c-d6fbad3cc509",
        "colab": {
          "base_uri": "https://localhost:8080/"
        }
      },
      "source": [
        "splits"
      ],
      "execution_count": 10,
      "outputs": [
        {
          "output_type": "execute_result",
          "data": {
            "text/plain": [
              "[(['PAD', 'PAD'], 'вернуть', ['денежный', 'средство']),\n",
              " (['PAD', 'вернуть'], 'денежный', ['средство', 'лицевой']),\n",
              " (['вернуть', 'денежный'], 'средство', ['лицевой', 'счёт']),\n",
              " (['денежный', 'средство'], 'лицевой', ['счёт', 'либо']),\n",
              " (['средство', 'лицевой'], 'счёт', ['либо', 'зачесть']),\n",
              " (['лицевой', 'счёт'], 'либо', ['зачесть', 'счёт']),\n",
              " (['счёт', 'либо'], 'зачесть', ['счёт', 'погашение']),\n",
              " (['либо', 'зачесть'], 'счёт', ['погашение', 'кредит']),\n",
              " (['зачесть', 'счёт'], 'погашение', ['кредит', 'PAD']),\n",
              " (['счёт', 'погашение'], 'кредит', ['PAD', 'PAD'])]"
            ]
          },
          "metadata": {
            "tags": []
          },
          "execution_count": 10
        }
      ]
    },
    {
      "cell_type": "markdown",
      "metadata": {
        "id": "BChaO2Djv4v8"
      },
      "source": [
        "У меня немного не такое предложение, как у вас, но суть та же!"
      ]
    },
    {
      "cell_type": "code",
      "metadata": {
        "id": "cyK9hlUyypNh",
        "outputId": "c95d23a3-e59e-482e-f416-c253ed6f59ff",
        "colab": {
          "base_uri": "https://localhost:8080/"
        }
      },
      "source": [
        "cbow_split('вопрос почему например китайский японский UNK'.split(), window=2)"
      ],
      "execution_count": 11,
      "outputs": [
        {
          "output_type": "execute_result",
          "data": {
            "text/plain": [
              "[(['PAD', 'PAD'], 'вопрос', ['почему', 'например']),\n",
              " (['PAD', 'вопрос'], 'почему', ['например', 'китайский']),\n",
              " (['вопрос', 'почему'], 'например', ['китайский', 'японский']),\n",
              " (['почему', 'например'], 'китайский', ['японский', 'UNK']),\n",
              " (['например', 'китайский'], 'японский', ['UNK', 'PAD']),\n",
              " (['китайский', 'японский'], 'UNK', ['PAD', 'PAD'])]"
            ]
          },
          "metadata": {
            "tags": []
          },
          "execution_count": 11
        }
      ]
    },
    {
      "cell_type": "markdown",
      "metadata": {
        "id": "sa29EDD2m3Di"
      },
      "source": [
        "# Expected\n",
        "\n",
        "```python\n",
        "[(['PAD', 'PAD'], 'вопрос', ['почему', 'например']),\n",
        " (['PAD', 'вопрос'], 'почему', ['например', 'китайский']),\n",
        " (['вопрос', 'почему'], 'например', ['китайский', 'японский']),\n",
        " (['почему', 'например'], 'китайский', ['японский', 'UNK']),\n",
        " (['например', 'китайский'], 'японский', ['UNK', 'PAD']),\n",
        " (['китайский', 'японский'], 'UNK', ['PAD', 'PAD'])]\n",
        "```"
      ]
    },
    {
      "cell_type": "code",
      "metadata": {
        "id": "DyZ6F7yEm3Dl",
        "outputId": "cc318f5d-4d09-42e9-bc7d-3acd5ddedf5a",
        "colab": {
          "base_uri": "https://localhost:8080/"
        }
      },
      "source": [
        "cbow_split(sample_text, window=3)"
      ],
      "execution_count": 12,
      "outputs": [
        {
          "output_type": "execute_result",
          "data": {
            "text/plain": [
              "[(['PAD', 'PAD', 'PAD'], 'вернуть', ['денежный', 'средство', 'лицевой']),\n",
              " (['PAD', 'PAD', 'вернуть'], 'денежный', ['средство', 'лицевой', 'счёт']),\n",
              " (['PAD', 'вернуть', 'денежный'], 'средство', ['лицевой', 'счёт', 'либо']),\n",
              " (['вернуть', 'денежный', 'средство'], 'лицевой', ['счёт', 'либо', 'зачесть']),\n",
              " (['денежный', 'средство', 'лицевой'], 'счёт', ['либо', 'зачесть', 'счёт']),\n",
              " (['средство', 'лицевой', 'счёт'], 'либо', ['зачесть', 'счёт', 'погашение']),\n",
              " (['лицевой', 'счёт', 'либо'], 'зачесть', ['счёт', 'погашение', 'кредит']),\n",
              " (['счёт', 'либо', 'зачесть'], 'счёт', ['погашение', 'кредит', 'PAD']),\n",
              " (['либо', 'зачесть', 'счёт'], 'погашение', ['кредит', 'PAD', 'PAD']),\n",
              " (['зачесть', 'счёт', 'погашение'], 'кредит', ['PAD', 'PAD', 'PAD'])]"
            ]
          },
          "metadata": {
            "tags": []
          },
          "execution_count": 12
        }
      ]
    },
    {
      "cell_type": "code",
      "metadata": {
        "id": "3ulir8LDy1rx",
        "outputId": "c8362b79-7afb-44d8-f3a0-f43fdbf5848b",
        "colab": {
          "base_uri": "https://localhost:8080/"
        }
      },
      "source": [
        "cbow_split('вопрос почему например китайский японский UNK'.split(), window=3)"
      ],
      "execution_count": 13,
      "outputs": [
        {
          "output_type": "execute_result",
          "data": {
            "text/plain": [
              "[(['PAD', 'PAD', 'PAD'], 'вопрос', ['почему', 'например', 'китайский']),\n",
              " (['PAD', 'PAD', 'вопрос'], 'почему', ['например', 'китайский', 'японский']),\n",
              " (['PAD', 'вопрос', 'почему'], 'например', ['китайский', 'японский', 'UNK']),\n",
              " (['вопрос', 'почему', 'например'], 'китайский', ['японский', 'UNK', 'PAD']),\n",
              " (['почему', 'например', 'китайский'], 'японский', ['UNK', 'PAD', 'PAD']),\n",
              " (['например', 'китайский', 'японский'], 'UNK', ['PAD', 'PAD', 'PAD'])]"
            ]
          },
          "metadata": {
            "tags": []
          },
          "execution_count": 13
        }
      ]
    },
    {
      "cell_type": "markdown",
      "metadata": {
        "id": "BHedogiPm3D0"
      },
      "source": [
        "# Expected\n",
        "\n",
        "```python\n",
        "[(['PAD', 'PAD', 'PAD'], 'вопрос', ['почему', 'например', 'китайский']),\n",
        " (['PAD', 'PAD', 'вопрос'], 'почему', ['например', 'китайский', 'японский']),\n",
        " (['PAD', 'вопрос', 'почему'], 'например', ['китайский', 'японский', 'UNK']),\n",
        " (['вопрос', 'почему', 'например'], 'китайский', ['японский', 'UNK', 'PAD']),\n",
        " (['почему', 'например', 'китайский'], 'японский', ['UNK', 'PAD', 'PAD']),\n",
        " (['например', 'китайский', 'японский'], 'UNK', ['PAD', 'PAD', 'PAD'])]\n",
        "```"
      ]
    },
    {
      "cell_type": "markdown",
      "metadata": {
        "id": "RbW1OrOrm3D4"
      },
      "source": [
        "# Skipgram"
      ]
    },
    {
      "cell_type": "code",
      "metadata": {
        "id": "0te08xJEm3D7",
        "outputId": "5bc536b8-d8d2-49c5-e962-f728a87e2f6d",
        "colab": {
          "base_uri": "https://localhost:8080/",
          "height": 0
        }
      },
      "source": [
        "' '.join(sample_text)"
      ],
      "execution_count": 14,
      "outputs": [
        {
          "output_type": "execute_result",
          "data": {
            "application/vnd.google.colaboratory.intrinsic+json": {
              "type": "string"
            },
            "text/plain": [
              "'вернуть денежный средство лицевой счёт либо зачесть счёт погашение кредит'"
            ]
          },
          "metadata": {
            "tags": []
          },
          "execution_count": 14
        }
      ]
    },
    {
      "cell_type": "markdown",
      "metadata": {
        "id": "26bCbGf0m3EM"
      },
      "source": [
        "# Реализуйте разделение предложения на примеры методом Skipgram"
      ]
    },
    {
      "cell_type": "code",
      "metadata": {
        "id": "qqOjvQFXm3EP"
      },
      "source": [
        "def skipgram_split(tokens, window):\n",
        "    \n",
        "    splits = []\n",
        "    \n",
        "    for i in range(len(tokens)):\n",
        "      central_word = tokens[i]\n",
        "      for j in range(i-window, i+window+1):\n",
        "        if i==j:\n",
        "          continue\n",
        "        if j>=0 and j<len(tokens):\n",
        "          splits.append((tokens[j], central_word))\n",
        "    return splits"
      ],
      "execution_count": 15,
      "outputs": []
    },
    {
      "cell_type": "code",
      "metadata": {
        "id": "8oHhefW1m3Eg"
      },
      "source": [
        "splits = skipgram_split(sample_text, window=2)"
      ],
      "execution_count": 16,
      "outputs": []
    },
    {
      "cell_type": "code",
      "metadata": {
        "id": "aLQJPCYGm3Ex",
        "outputId": "0ad59195-2437-4061-8735-7faea3377aa0",
        "colab": {
          "base_uri": "https://localhost:8080/"
        }
      },
      "source": [
        "for sample in splits:\n",
        "    print('Контекст:', sample[0])\n",
        "    print('Центральное слово:', sample[1], end='\\n\\n')"
      ],
      "execution_count": 17,
      "outputs": [
        {
          "output_type": "stream",
          "text": [
            "Контекст: денежный\n",
            "Центральное слово: вернуть\n",
            "\n",
            "Контекст: средство\n",
            "Центральное слово: вернуть\n",
            "\n",
            "Контекст: вернуть\n",
            "Центральное слово: денежный\n",
            "\n",
            "Контекст: средство\n",
            "Центральное слово: денежный\n",
            "\n",
            "Контекст: лицевой\n",
            "Центральное слово: денежный\n",
            "\n",
            "Контекст: вернуть\n",
            "Центральное слово: средство\n",
            "\n",
            "Контекст: денежный\n",
            "Центральное слово: средство\n",
            "\n",
            "Контекст: лицевой\n",
            "Центральное слово: средство\n",
            "\n",
            "Контекст: счёт\n",
            "Центральное слово: средство\n",
            "\n",
            "Контекст: денежный\n",
            "Центральное слово: лицевой\n",
            "\n",
            "Контекст: средство\n",
            "Центральное слово: лицевой\n",
            "\n",
            "Контекст: счёт\n",
            "Центральное слово: лицевой\n",
            "\n",
            "Контекст: либо\n",
            "Центральное слово: лицевой\n",
            "\n",
            "Контекст: средство\n",
            "Центральное слово: счёт\n",
            "\n",
            "Контекст: лицевой\n",
            "Центральное слово: счёт\n",
            "\n",
            "Контекст: либо\n",
            "Центральное слово: счёт\n",
            "\n",
            "Контекст: зачесть\n",
            "Центральное слово: счёт\n",
            "\n",
            "Контекст: лицевой\n",
            "Центральное слово: либо\n",
            "\n",
            "Контекст: счёт\n",
            "Центральное слово: либо\n",
            "\n",
            "Контекст: зачесть\n",
            "Центральное слово: либо\n",
            "\n",
            "Контекст: счёт\n",
            "Центральное слово: либо\n",
            "\n",
            "Контекст: счёт\n",
            "Центральное слово: зачесть\n",
            "\n",
            "Контекст: либо\n",
            "Центральное слово: зачесть\n",
            "\n",
            "Контекст: счёт\n",
            "Центральное слово: зачесть\n",
            "\n",
            "Контекст: погашение\n",
            "Центральное слово: зачесть\n",
            "\n",
            "Контекст: либо\n",
            "Центральное слово: счёт\n",
            "\n",
            "Контекст: зачесть\n",
            "Центральное слово: счёт\n",
            "\n",
            "Контекст: погашение\n",
            "Центральное слово: счёт\n",
            "\n",
            "Контекст: кредит\n",
            "Центральное слово: счёт\n",
            "\n",
            "Контекст: зачесть\n",
            "Центральное слово: погашение\n",
            "\n",
            "Контекст: счёт\n",
            "Центральное слово: погашение\n",
            "\n",
            "Контекст: кредит\n",
            "Центральное слово: погашение\n",
            "\n",
            "Контекст: счёт\n",
            "Центральное слово: кредит\n",
            "\n",
            "Контекст: погашение\n",
            "Центральное слово: кредит\n",
            "\n"
          ],
          "name": "stdout"
        }
      ]
    },
    {
      "cell_type": "code",
      "metadata": {
        "id": "9fMx7fMXm3FF",
        "outputId": "cf4ba024-bf86-4754-fd94-c6351a17c60b",
        "colab": {
          "base_uri": "https://localhost:8080/"
        }
      },
      "source": [
        "skipgram_split(sample_text, window=2)"
      ],
      "execution_count": 18,
      "outputs": [
        {
          "output_type": "execute_result",
          "data": {
            "text/plain": [
              "[('денежный', 'вернуть'),\n",
              " ('средство', 'вернуть'),\n",
              " ('вернуть', 'денежный'),\n",
              " ('средство', 'денежный'),\n",
              " ('лицевой', 'денежный'),\n",
              " ('вернуть', 'средство'),\n",
              " ('денежный', 'средство'),\n",
              " ('лицевой', 'средство'),\n",
              " ('счёт', 'средство'),\n",
              " ('денежный', 'лицевой'),\n",
              " ('средство', 'лицевой'),\n",
              " ('счёт', 'лицевой'),\n",
              " ('либо', 'лицевой'),\n",
              " ('средство', 'счёт'),\n",
              " ('лицевой', 'счёт'),\n",
              " ('либо', 'счёт'),\n",
              " ('зачесть', 'счёт'),\n",
              " ('лицевой', 'либо'),\n",
              " ('счёт', 'либо'),\n",
              " ('зачесть', 'либо'),\n",
              " ('счёт', 'либо'),\n",
              " ('счёт', 'зачесть'),\n",
              " ('либо', 'зачесть'),\n",
              " ('счёт', 'зачесть'),\n",
              " ('погашение', 'зачесть'),\n",
              " ('либо', 'счёт'),\n",
              " ('зачесть', 'счёт'),\n",
              " ('погашение', 'счёт'),\n",
              " ('кредит', 'счёт'),\n",
              " ('зачесть', 'погашение'),\n",
              " ('счёт', 'погашение'),\n",
              " ('кредит', 'погашение'),\n",
              " ('счёт', 'кредит'),\n",
              " ('погашение', 'кредит')]"
            ]
          },
          "metadata": {
            "tags": []
          },
          "execution_count": 18
        }
      ]
    },
    {
      "cell_type": "code",
      "metadata": {
        "id": "cjnRIHDf4X-P",
        "outputId": "b56abff2-3216-48b9-bee5-45d0bb6bcc9a",
        "colab": {
          "base_uri": "https://localhost:8080/"
        }
      },
      "source": [
        "skipgram_split('вопрос почему например китайский японский UNK'.split(), window=2)"
      ],
      "execution_count": 19,
      "outputs": [
        {
          "output_type": "execute_result",
          "data": {
            "text/plain": [
              "[('почему', 'вопрос'),\n",
              " ('например', 'вопрос'),\n",
              " ('вопрос', 'почему'),\n",
              " ('например', 'почему'),\n",
              " ('китайский', 'почему'),\n",
              " ('вопрос', 'например'),\n",
              " ('почему', 'например'),\n",
              " ('китайский', 'например'),\n",
              " ('японский', 'например'),\n",
              " ('почему', 'китайский'),\n",
              " ('например', 'китайский'),\n",
              " ('японский', 'китайский'),\n",
              " ('UNK', 'китайский'),\n",
              " ('например', 'японский'),\n",
              " ('китайский', 'японский'),\n",
              " ('UNK', 'японский'),\n",
              " ('китайский', 'UNK'),\n",
              " ('японский', 'UNK')]"
            ]
          },
          "metadata": {
            "tags": []
          },
          "execution_count": 19
        }
      ]
    },
    {
      "cell_type": "markdown",
      "metadata": {
        "id": "gDa_NS1fm3FV"
      },
      "source": [
        "# Expected\n",
        "\n",
        "```python\n",
        "[('почему', 'вопрос'),\n",
        " ('например', 'вопрос'),\n",
        " ('вопрос', 'почему'),\n",
        " ('например', 'почему'),\n",
        " ('китайский', 'почему'),\n",
        " ('вопрос', 'например'),\n",
        " ('почему', 'например'),\n",
        " ('китайский', 'например'),\n",
        " ('японский', 'например'),\n",
        " ('почему', 'китайский'),\n",
        " ('например', 'китайский'),\n",
        " ('японский', 'китайский'),\n",
        " ('UNK', 'китайский'),\n",
        " ('например', 'японский'),\n",
        " ('китайский', 'японский'),\n",
        " ('UNK', 'японский'),\n",
        " ('китайский', 'UNK'),\n",
        " ('японский', 'UNK')]\n",
        "```"
      ]
    },
    {
      "cell_type": "code",
      "metadata": {
        "id": "Wn8loC1-m3FY",
        "outputId": "2c5c1a31-0362-48fa-8c00-b403da168f57",
        "colab": {
          "base_uri": "https://localhost:8080/"
        }
      },
      "source": [
        "skipgram_split('вопрос почему например китайский японский UNK'.split(), window=3)"
      ],
      "execution_count": 20,
      "outputs": [
        {
          "output_type": "execute_result",
          "data": {
            "text/plain": [
              "[('почему', 'вопрос'),\n",
              " ('например', 'вопрос'),\n",
              " ('китайский', 'вопрос'),\n",
              " ('вопрос', 'почему'),\n",
              " ('например', 'почему'),\n",
              " ('китайский', 'почему'),\n",
              " ('японский', 'почему'),\n",
              " ('вопрос', 'например'),\n",
              " ('почему', 'например'),\n",
              " ('китайский', 'например'),\n",
              " ('японский', 'например'),\n",
              " ('UNK', 'например'),\n",
              " ('вопрос', 'китайский'),\n",
              " ('почему', 'китайский'),\n",
              " ('например', 'китайский'),\n",
              " ('японский', 'китайский'),\n",
              " ('UNK', 'китайский'),\n",
              " ('почему', 'японский'),\n",
              " ('например', 'японский'),\n",
              " ('китайский', 'японский'),\n",
              " ('UNK', 'японский'),\n",
              " ('например', 'UNK'),\n",
              " ('китайский', 'UNK'),\n",
              " ('японский', 'UNK')]"
            ]
          },
          "metadata": {
            "tags": []
          },
          "execution_count": 20
        }
      ]
    },
    {
      "cell_type": "markdown",
      "metadata": {
        "id": "5fmF4su9m3Fq"
      },
      "source": [
        "# Expected\n",
        "\n",
        "```python\n",
        "[('почему', 'вопрос'),\n",
        " ('например', 'вопрос'),\n",
        " ('китайский', 'вопрос'),\n",
        " ('вопрос', 'почему'),\n",
        " ('например', 'почему'),\n",
        " ('китайский', 'почему'),\n",
        " ('японский', 'почему'),\n",
        " ('вопрос', 'например'),\n",
        " ('почему', 'например'),\n",
        " ('китайский', 'например'),\n",
        " ('японский', 'например'),\n",
        " ('UNK', 'например'),\n",
        " ('вопрос', 'китайский'),\n",
        " ('почему', 'китайский'),\n",
        " ('например', 'китайский'),\n",
        " ('японский', 'китайский'),\n",
        " ('UNK', 'китайский'),\n",
        " ('почему', 'японский'),\n",
        " ('например', 'японский'),\n",
        " ('китайский', 'японский'),\n",
        " ('UNK', 'японский'),\n",
        " ('например', 'UNK'),\n",
        " ('китайский', 'UNK'),\n",
        " ('японский', 'UNK')]\n",
        "```"
      ]
    },
    {
      "cell_type": "code",
      "metadata": {
        "id": "Aitzt902m3Ft"
      },
      "source": [
        "word2index = {}\n",
        "\n",
        "for text in corpus:\n",
        "    for token in text:\n",
        "        if token not in word2index:\n",
        "            word2index[token] = len(word2index)"
      ],
      "execution_count": 21,
      "outputs": []
    },
    {
      "cell_type": "code",
      "metadata": {
        "id": "827ectqgm3GB",
        "outputId": "d58d7868-c5fc-4b8f-f421-8459c8ad9440",
        "colab": {
          "base_uri": "https://localhost:8080/"
        }
      },
      "source": [
        "len(word2index)"
      ],
      "execution_count": 22,
      "outputs": [
        {
          "output_type": "execute_result",
          "data": {
            "text/plain": [
              "13076"
            ]
          },
          "metadata": {
            "tags": []
          },
          "execution_count": 22
        }
      ]
    },
    {
      "cell_type": "code",
      "metadata": {
        "id": "8BmyfuEkm3GT",
        "outputId": "8fbed621-ca52-4752-d046-2bf37b326e63",
        "colab": {
          "base_uri": "https://localhost:8080/"
        }
      },
      "source": [
        "word2index['UNK']"
      ],
      "execution_count": 23,
      "outputs": [
        {
          "output_type": "execute_result",
          "data": {
            "text/plain": [
              "1"
            ]
          },
          "metadata": {
            "tags": []
          },
          "execution_count": 23
        }
      ]
    },
    {
      "cell_type": "code",
      "metadata": {
        "id": "wgqrpt3Vm3Gh",
        "outputId": "f67aa539-92e8-4fa5-b278-10b91f91f68b",
        "colab": {
          "base_uri": "https://localhost:8080/"
        }
      },
      "source": [
        "[word2index[tok] if tok in word2index else word2index['UNK'] for tok in 'мама мыть рама'.split()]"
      ],
      "execution_count": 24,
      "outputs": [
        {
          "output_type": "execute_result",
          "data": {
            "text/plain": [
              "[1282, 8436, 1]"
            ]
          },
          "metadata": {
            "tags": []
          },
          "execution_count": 24
        }
      ]
    },
    {
      "cell_type": "markdown",
      "metadata": {
        "id": "ZovuS_lIm3Gw"
      },
      "source": [
        "# Torch Dataset\n",
        "В торче есть очень удобная читалка данных"
      ]
    },
    {
      "cell_type": "code",
      "metadata": {
        "id": "ww2AFPUkm3Gy"
      },
      "source": [
        "from torch.utils.data import Dataset, DataLoader"
      ],
      "execution_count": 25,
      "outputs": []
    },
    {
      "cell_type": "code",
      "metadata": {
        "id": "UtpFpVWNm3HB"
      },
      "source": [
        "# игрушечный датасет\n",
        "# 121535 примера, 4 фичи, 3 класса\n",
        "some_data_x = np.random.rand(121535, 4)\n",
        "some_data_y = np.random.randint(3, size=(121535,))"
      ],
      "execution_count": 26,
      "outputs": []
    },
    {
      "cell_type": "code",
      "metadata": {
        "id": "jqZC0L6Im3HT",
        "outputId": "d2128e69-8184-40f8-c77d-3a1810796b7d",
        "colab": {
          "base_uri": "https://localhost:8080/"
        }
      },
      "source": [
        "# соверешенно игрушечный, просто цифры\n",
        "some_data_x[:10]"
      ],
      "execution_count": 27,
      "outputs": [
        {
          "output_type": "execute_result",
          "data": {
            "text/plain": [
              "array([[0.51193214, 0.83852196, 0.07297993, 0.78232479],\n",
              "       [0.7630343 , 0.13288124, 0.43741419, 0.98399804],\n",
              "       [0.15156451, 0.74069485, 0.0387283 , 0.09252584],\n",
              "       [0.09801676, 0.8602223 , 0.0825473 , 0.0364523 ],\n",
              "       [0.55276324, 0.18878393, 0.33328942, 0.66336619],\n",
              "       [0.13750979, 0.11517966, 0.02286377, 0.80933935],\n",
              "       [0.65735749, 0.66134436, 0.79934773, 0.56536612],\n",
              "       [0.3540252 , 0.8501455 , 0.61636002, 0.36832953],\n",
              "       [0.51743099, 0.98598044, 0.67654708, 0.53999796],\n",
              "       [0.71150664, 0.56017193, 0.22121518, 0.92705891]])"
            ]
          },
          "metadata": {
            "tags": []
          },
          "execution_count": 27
        }
      ]
    },
    {
      "cell_type": "code",
      "metadata": {
        "id": "LiZJL9j5m3Hj",
        "outputId": "e614a8d7-3207-4f42-a295-5b25cadca747",
        "colab": {
          "base_uri": "https://localhost:8080/"
        }
      },
      "source": [
        "some_data_y"
      ],
      "execution_count": 28,
      "outputs": [
        {
          "output_type": "execute_result",
          "data": {
            "text/plain": [
              "array([0, 0, 1, ..., 1, 0, 1])"
            ]
          },
          "metadata": {
            "tags": []
          },
          "execution_count": 28
        }
      ]
    },
    {
      "cell_type": "code",
      "metadata": {
        "id": "tEk1S8aym3Hy"
      },
      "source": [
        "class ToyDataset(Dataset):\n",
        "    \n",
        "    def __init__(self, data_x, data_y):\n",
        "        \n",
        "        super().__init__()\n",
        "        \n",
        "        self.data_x = data_x\n",
        "        self.data_y = data_y\n",
        "        \n",
        "    def __len__(self):\n",
        "        \n",
        "        # Нужно обязательно определить эту функцию\n",
        "        # Должна возвращать размер датасета\n",
        "        \n",
        "        return len(self.data_x)\n",
        "    \n",
        "    def __getitem__(self, idx):\n",
        "        \n",
        "        # Еще нужно определить этот метод\n",
        "        # То есть как мы будем доставать наши данные по индексу\n",
        "        \n",
        "        return self.data_x[idx], self.data_y[idx]"
      ],
      "execution_count": 29,
      "outputs": []
    },
    {
      "cell_type": "code",
      "metadata": {
        "id": "IkbwAjn6m3IB"
      },
      "source": [
        "some_dataset = ToyDataset(some_data_x, some_data_y)"
      ],
      "execution_count": 30,
      "outputs": []
    },
    {
      "cell_type": "code",
      "metadata": {
        "id": "hG9XJ3L3m3IP",
        "outputId": "647f6b70-aa77-4428-f66a-fe2cf951bf3b",
        "colab": {
          "base_uri": "https://localhost:8080/"
        }
      },
      "source": [
        "some_dataset[5], some_dataset[467]"
      ],
      "execution_count": 31,
      "outputs": [
        {
          "output_type": "execute_result",
          "data": {
            "text/plain": [
              "((array([0.13750979, 0.11517966, 0.02286377, 0.80933935]), 0),\n",
              " (array([0.08137588, 0.82587047, 0.76277966, 0.03244055]), 2))"
            ]
          },
          "metadata": {
            "tags": []
          },
          "execution_count": 31
        }
      ]
    },
    {
      "cell_type": "code",
      "metadata": {
        "id": "clae7geWm3Ie"
      },
      "source": [
        "some_loader = DataLoader(some_dataset, batch_size=16, shuffle=True)"
      ],
      "execution_count": 32,
      "outputs": []
    },
    {
      "cell_type": "code",
      "metadata": {
        "id": "BqyhRefdm3Iv",
        "outputId": "17bf3352-1c51-4027-9755-5c3f424b22e1",
        "colab": {
          "base_uri": "https://localhost:8080/"
        }
      },
      "source": [
        "for x, y in some_loader:\n",
        "    break\n",
        "    \n",
        "len(x), x"
      ],
      "execution_count": 33,
      "outputs": [
        {
          "output_type": "execute_result",
          "data": {
            "text/plain": [
              "(16, tensor([[0.7302, 0.0389, 0.4249, 0.8480],\n",
              "         [0.4718, 0.4852, 0.5117, 0.4626],\n",
              "         [0.5474, 0.8628, 0.6527, 0.1523],\n",
              "         [0.0788, 0.5704, 0.6403, 0.2998],\n",
              "         [0.1709, 0.6905, 0.8851, 0.7756],\n",
              "         [0.2706, 0.2740, 0.9610, 0.0776],\n",
              "         [0.9932, 0.5300, 0.9020, 0.2950],\n",
              "         [0.5307, 0.0520, 0.6139, 0.6608],\n",
              "         [0.7005, 0.2658, 0.5893, 0.6208],\n",
              "         [0.9911, 0.8632, 0.5484, 0.2362],\n",
              "         [0.9563, 0.0990, 0.2128, 0.9156],\n",
              "         [0.3679, 0.7065, 0.0987, 0.1785],\n",
              "         [0.3702, 0.2959, 0.0506, 0.6116],\n",
              "         [0.5447, 0.8603, 0.3318, 0.9680],\n",
              "         [0.8272, 0.2012, 0.5169, 0.9738],\n",
              "         [0.4911, 0.7650, 0.7058, 0.3723]], dtype=torch.float64))"
            ]
          },
          "metadata": {
            "tags": []
          },
          "execution_count": 33
        }
      ]
    },
    {
      "cell_type": "code",
      "metadata": {
        "id": "Jzofy3hXm3I8",
        "outputId": "d9cce6c2-d6e6-4664-f61d-643e4e0274e1",
        "colab": {
          "base_uri": "https://localhost:8080/"
        }
      },
      "source": [
        "for x, y in some_loader:\n",
        "    pass\n",
        "\n",
        "len(x)"
      ],
      "execution_count": 34,
      "outputs": [
        {
          "output_type": "execute_result",
          "data": {
            "text/plain": [
              "15"
            ]
          },
          "metadata": {
            "tags": []
          },
          "execution_count": 34
        }
      ]
    },
    {
      "cell_type": "code",
      "metadata": {
        "id": "YqWfzuOqm3JO",
        "outputId": "ee2ab139-a59d-4862-8c22-23a45af00cd8",
        "colab": {
          "base_uri": "https://localhost:8080/"
        }
      },
      "source": [
        "# почему 15?\n",
        "# потому что количество наших данных нацело не делится на 16\n",
        "# и поэтому последний батч меньше 16-ти\n",
        "len(some_dataset) % 16"
      ],
      "execution_count": 35,
      "outputs": [
        {
          "output_type": "execute_result",
          "data": {
            "text/plain": [
              "15"
            ]
          },
          "metadata": {
            "tags": []
          },
          "execution_count": 35
        }
      ]
    },
    {
      "cell_type": "markdown",
      "metadata": {
        "id": "H9mL5yjCm3Ja"
      },
      "source": [
        "# А зачем?"
      ]
    },
    {
      "cell_type": "code",
      "metadata": {
        "id": "CywaPkxzm3Jd"
      },
      "source": [
        "class ToyDataset(Dataset):\n",
        "    \n",
        "    def __init__(self, data_x, data_y):\n",
        "        \n",
        "        super().__init__()\n",
        "        \n",
        "        self.data_x = data_x\n",
        "        self.data_y = data_y\n",
        "        \n",
        "    def __len__(self):\n",
        "        \n",
        "        # Нужно обязательно определить эту функцию\n",
        "        # Должна возвращать размер датасета\n",
        "        \n",
        "        return len(self.data_x)\n",
        "    \n",
        "    @staticmethod\n",
        "    def add_pow_features(x, n=2):\n",
        "        \n",
        "        return np.concatenate([x, x ** n]) \n",
        "    \n",
        "    @staticmethod\n",
        "    def add_log_features(x):\n",
        "        \n",
        "        return np.concatenate([x, np.log(x)]) \n",
        "    \n",
        "    def __getitem__(self, idx):\n",
        "        \n",
        "        # Еще нужно определить этот метод\n",
        "        # То есть как мы будем доставать наши данные по индексу\n",
        "        \n",
        "        x = self.data_x[idx]\n",
        "        \n",
        "        # внутри датасета мы можем делать все что угодно с нашими данными\n",
        "        # например выше определим функции, которые добавляют степенные фичи\n",
        "        x = self.add_pow_features(x, n=2)\n",
        "        x = self.add_pow_features(x, n=3)\n",
        "        # и еще возьмем логарифмические фичи\n",
        "        x = self.add_log_features(x)\n",
        "        \n",
        "        y = self.data_y[idx]\n",
        "        \n",
        "        return x, y"
      ],
      "execution_count": 36,
      "outputs": []
    },
    {
      "cell_type": "code",
      "metadata": {
        "id": "nIu-26kPm3Jp"
      },
      "source": [
        "toy_dataset = ToyDataset(some_data_x, some_data_y)"
      ],
      "execution_count": 37,
      "outputs": []
    },
    {
      "cell_type": "code",
      "metadata": {
        "id": "zV-JxRjam3J2"
      },
      "source": [
        "toy_loader = DataLoader(dataset=toy_dataset, batch_size=128)"
      ],
      "execution_count": 38,
      "outputs": []
    },
    {
      "cell_type": "code",
      "metadata": {
        "id": "9iWXvL8wm3KC"
      },
      "source": [
        "for x, y in toy_loader:\n",
        "    break"
      ],
      "execution_count": 39,
      "outputs": []
    },
    {
      "cell_type": "code",
      "metadata": {
        "id": "S7e8tLvwm3KO",
        "outputId": "676d593c-8220-4865-9353-9d0beb048ceb",
        "colab": {
          "base_uri": "https://localhost:8080/"
        }
      },
      "source": [
        "x.shape"
      ],
      "execution_count": 40,
      "outputs": [
        {
          "output_type": "execute_result",
          "data": {
            "text/plain": [
              "torch.Size([128, 32])"
            ]
          },
          "metadata": {
            "tags": []
          },
          "execution_count": 40
        }
      ]
    },
    {
      "cell_type": "code",
      "metadata": {
        "id": "jplh2zLTm3Kd",
        "outputId": "1e5d4317-c046-4e92-ca44-2a59513e62b7",
        "colab": {
          "base_uri": "https://localhost:8080/"
        }
      },
      "source": [
        "# заметим, что мы сразу получаем торчовый формат данных\n",
        "x"
      ],
      "execution_count": 41,
      "outputs": [
        {
          "output_type": "execute_result",
          "data": {
            "text/plain": [
              "tensor([[  0.5119,   0.8385,   0.0730,  ...,  -1.0567, -15.7054,  -1.4729],\n",
              "        [  0.7630,   0.1329,   0.4374,  ..., -12.1098,  -4.9612,  -0.0968],\n",
              "        [  0.1516,   0.7407,   0.0387,  ...,  -1.8010, -19.5071, -14.2816],\n",
              "        ...,\n",
              "        [  0.5134,   0.7069,   0.6462,  ...,  -2.0809,  -2.6194,  -0.5635],\n",
              "        [  0.0378,   0.8767,   0.1171,  ...,  -0.7895, -12.8678,  -9.5581],\n",
              "        [  0.9516,   0.3095,   0.3227,  ...,  -7.0364,  -6.7868,  -0.7957]],\n",
              "       dtype=torch.float64)"
            ]
          },
          "metadata": {
            "tags": []
          },
          "execution_count": 41
        }
      ]
    },
    {
      "cell_type": "code",
      "metadata": {
        "id": "WKLnnMJXm3Kq",
        "outputId": "8328763b-702b-41c0-cf39-76d8026d1199",
        "colab": {
          "base_uri": "https://localhost:8080/"
        }
      },
      "source": [
        "y"
      ],
      "execution_count": 42,
      "outputs": [
        {
          "output_type": "execute_result",
          "data": {
            "text/plain": [
              "tensor([0, 0, 1, 0, 0, 0, 0, 1, 0, 0, 2, 2, 2, 0, 2, 2, 1, 1, 0, 1, 0, 0, 0, 2,\n",
              "        0, 1, 0, 2, 0, 0, 1, 0, 1, 2, 2, 0, 2, 0, 1, 0, 0, 2, 0, 1, 0, 1, 2, 2,\n",
              "        1, 1, 1, 0, 2, 1, 0, 2, 1, 1, 2, 2, 2, 1, 1, 0, 0, 2, 1, 0, 1, 0, 2, 0,\n",
              "        2, 0, 1, 1, 0, 0, 2, 2, 0, 0, 0, 0, 0, 1, 1, 2, 0, 0, 0, 0, 2, 1, 0, 1,\n",
              "        0, 0, 0, 2, 0, 1, 0, 1, 0, 2, 0, 0, 1, 1, 1, 2, 0, 1, 2, 1, 1, 2, 1, 1,\n",
              "        2, 0, 1, 1, 0, 1, 2, 1])"
            ]
          },
          "metadata": {
            "tags": []
          },
          "execution_count": 42
        }
      ]
    },
    {
      "cell_type": "markdown",
      "metadata": {
        "id": "MUbIwYQnm3K4"
      },
      "source": [
        "# Если вы ничего здесь не понимаете, то вернитесь в конец первой домашки, там все объясняется"
      ]
    },
    {
      "cell_type": "code",
      "metadata": {
        "id": "25d3xeVAm3K7"
      },
      "source": [
        "model = torch.nn.Sequential(torch.nn.Linear(32, 16),\n",
        "                            torch.nn.ReLU(),\n",
        "                            torch.nn.Linear(16, 8),\n",
        "                            torch.nn.ReLU(),\n",
        "                            torch.nn.Linear(8, 3))\n",
        "\n",
        "criterion = torch.nn.CrossEntropyLoss()"
      ],
      "execution_count": 43,
      "outputs": []
    },
    {
      "cell_type": "code",
      "metadata": {
        "id": "pi91AwhEm3LS",
        "outputId": "92d87ac4-f82d-4725-e10e-8a1202f68ce2",
        "colab": {
          "base_uri": "https://localhost:8080/"
        }
      },
      "source": [
        "with torch.no_grad():\n",
        "\n",
        "    prediction = model(x.float())\n",
        "\n",
        "    loss = criterion(prediction, y)\n",
        "    \n",
        "loss.item()"
      ],
      "execution_count": 44,
      "outputs": [
        {
          "output_type": "execute_result",
          "data": {
            "text/plain": [
              "1.1333452463150024"
            ]
          },
          "metadata": {
            "tags": []
          },
          "execution_count": 44
        }
      ]
    },
    {
      "cell_type": "markdown",
      "metadata": {
        "id": "LpML5IUWm3Le"
      },
      "source": [
        "# Боевые датасеты"
      ]
    },
    {
      "cell_type": "code",
      "metadata": {
        "id": "0lEC8DD7m3Lg"
      },
      "source": [
        "class CBOWDataset(Dataset):\n",
        "\n",
        "    def __init__(self,\n",
        "                 corpus,\n",
        "                 word2index,\n",
        "                 window=2,\n",
        "                 unk_token='UNK',\n",
        "                 pad_token='PAD',\n",
        "                 collect_verbose=True):\n",
        "\n",
        "        self.corpus = corpus\n",
        "        self.word2index = word2index\n",
        "        self.index2word = {value: key for key, value in self.word2index.items()}\n",
        "        self.window = window\n",
        "\n",
        "        self.unk_token = unk_token\n",
        "        self.unk_index = self.word2index[self.unk_token]\n",
        "\n",
        "        self.pad_token = pad_token\n",
        "        self.pad_index = len(self.word2index)\n",
        "\n",
        "        self.collect_verbose = collect_verbose\n",
        "\n",
        "        self.data = []\n",
        "\n",
        "        self.collect_data()\n",
        "\n",
        "    def __len__(self):\n",
        "\n",
        "        return len(self.data)\n",
        "\n",
        "    def _split_function(self, tokenized_text):\n",
        "\n",
        "        splits = []\n",
        "\n",
        "        for n in range(len(tokenized_text)):\n",
        "            left_context = tokenized_text[np.maximum(n - self.window, 0):n]\n",
        "            left_context = ([self.pad_index] * (self.window - len(left_context))) + left_context\n",
        "\n",
        "            central_word = tokenized_text[n]\n",
        "\n",
        "            right_context = tokenized_text[n + 1:n + self.window + 1]\n",
        "            right_context = right_context + ([self.pad_index] * (self.window - len(right_context)))\n",
        "\n",
        "            splits.append((left_context + right_context, central_word))\n",
        "\n",
        "        return splits\n",
        "\n",
        "    def indexing(self, tokenized_text):\n",
        "\n",
        "        return [self.word2index[token] if token in self.word2index else self.unk_index for token in tokenized_text]\n",
        "\n",
        "    def collect_data(self):\n",
        "\n",
        "        corpus = tqdm(self.corpus, disable=not self.collect_verbose)\n",
        "\n",
        "        for tokenized_text in corpus:\n",
        "            indexed_text = self.indexing(tokenized_text)\n",
        "            cbow_examples = self._split_function(indexed_text)\n",
        "\n",
        "            self.data.extend(cbow_examples)\n",
        "\n",
        "    def __getitem__(self, idx):\n",
        "\n",
        "        context, central_word = self.data[idx]\n",
        "\n",
        "        context = torch.Tensor(context).long()\n",
        "\n",
        "        return context, central_word"
      ],
      "execution_count": 45,
      "outputs": []
    },
    {
      "cell_type": "markdown",
      "metadata": {
        "id": "HCaPehKgm3Lt"
      },
      "source": [
        "# Мы будем учить модель Skipgram\n",
        "Реализуйте читалку данных"
      ]
    },
    {
      "cell_type": "code",
      "metadata": {
        "id": "pov7kGWrm3Lv"
      },
      "source": [
        "class SkipgramDataset(Dataset):\n",
        "\n",
        "    def __init__(self,\n",
        "                 corpus,\n",
        "                 word2index,\n",
        "                 window=2,\n",
        "                 unk_token='UNK',\n",
        "                 collect_verbose=True):\n",
        "\n",
        "        self.corpus = corpus\n",
        "        self.word2index = word2index\n",
        "        self.index2word = {value: key for key, value in self.word2index.items()}\n",
        "        self.window = window\n",
        "        \n",
        "        self.unk_token = unk_token\n",
        "        self.unk_index = self.word2index[self.unk_token]\n",
        "\n",
        "        self.collect_verbose = collect_verbose\n",
        "\n",
        "        self.data = []\n",
        "\n",
        "        self.collect_data()\n",
        "\n",
        "    def __len__(self):\n",
        "\n",
        "        return len(self.data)\n",
        "\n",
        "    def _split_function(self, tokenized_text):\n",
        "        \n",
        "        # вставить здесь функцию, которые вы писали раньше\n",
        "\n",
        "        splits = []\n",
        "        for i in range(len(tokenized_text)):\n",
        "          central_word = tokenized_text[i]\n",
        "          for j in range(i-self.window, i+self.window+1):\n",
        "            if i==j:\n",
        "              continue\n",
        "            if j>=0 and j<len(tokenized_text):\n",
        "              splits.append((tokenized_text[j], central_word))\n",
        "    \n",
        "        return splits\n",
        "\n",
        "\n",
        "    def indexing(self, tokenized_text):\n",
        "\n",
        "        return [self.word2index[token] if token in self.word2index else self.unk_index for token in tokenized_text]\n",
        "\n",
        "    def collect_data(self):\n",
        "\n",
        "        corpus = tqdm(self.corpus, disable=not self.collect_verbose)\n",
        "\n",
        "        for tokenized_text in corpus:\n",
        "            indexed_text = self.indexing(tokenized_text)\n",
        "            skipgram_examples = self._split_function(indexed_text)\n",
        "\n",
        "            self.data.extend(skipgram_examples)\n",
        "\n",
        "    def __getitem__(self, idx):\n",
        "        \n",
        "        context, central_word = self.data[idx]\n",
        "\n",
        "        #context = torch.Tensor(context).long()\n",
        "\n",
        "        return context, central_word"
      ],
      "execution_count": 58,
      "outputs": []
    },
    {
      "cell_type": "code",
      "metadata": {
        "id": "KKkRsGgTm3L_"
      },
      "source": [
        "# можете положить SkipgramDataset в отдельный файлик, например word2vec_utils и относительным импортом достать его \n",
        "#from .word2vec_utils import SkipgramDataset"
      ],
      "execution_count": null,
      "outputs": []
    },
    {
      "cell_type": "code",
      "metadata": {
        "id": "6-SydGu9m3MQ",
        "scrolled": true,
        "outputId": "4a58dc22-99f1-40b2-e82a-ed92e6b5924d",
        "colab": {
          "base_uri": "https://localhost:8080/"
        }
      },
      "source": [
        "dataset = SkipgramDataset(corpus, word2index)"
      ],
      "execution_count": 59,
      "outputs": [
        {
          "output_type": "stream",
          "text": [
            "100%|██████████| 100000/100000 [00:01<00:00, 51101.68it/s]\n"
          ],
          "name": "stderr"
        }
      ]
    },
    {
      "cell_type": "code",
      "metadata": {
        "id": "F1gOf9Xwm3Md"
      },
      "source": [
        "BATCH_SIZE = 512"
      ],
      "execution_count": 48,
      "outputs": []
    },
    {
      "cell_type": "code",
      "metadata": {
        "id": "PZTCxv6Om3Mo"
      },
      "source": [
        "dataset_loader = DataLoader(dataset, shuffle=True, batch_size=BATCH_SIZE)"
      ],
      "execution_count": 61,
      "outputs": []
    },
    {
      "cell_type": "code",
      "metadata": {
        "id": "MUaBBW4rm3Mz"
      },
      "source": [
        "for x, y in dataset_loader:\n",
        "    break"
      ],
      "execution_count": 62,
      "outputs": []
    },
    {
      "cell_type": "code",
      "metadata": {
        "id": "pauRqPs3m3NI",
        "outputId": "4b303314-70b5-44b5-8595-78dc8fc1a284",
        "colab": {
          "base_uri": "https://localhost:8080/"
        }
      },
      "source": [
        "x[:5]"
      ],
      "execution_count": 63,
      "outputs": [
        {
          "output_type": "execute_result",
          "data": {
            "text/plain": [
              "tensor([25,  1, 73, 25, 28])"
            ]
          },
          "metadata": {
            "tags": []
          },
          "execution_count": 63
        }
      ]
    },
    {
      "cell_type": "code",
      "metadata": {
        "id": "w_diiyROm3Na",
        "outputId": "72edb259-3298-46cd-c0bc-b5be075282d3",
        "colab": {
          "base_uri": "https://localhost:8080/"
        }
      },
      "source": [
        "y[:5]"
      ],
      "execution_count": 64,
      "outputs": [
        {
          "output_type": "execute_result",
          "data": {
            "text/plain": [
              "tensor([ 554,  539,   25,  236, 2868])"
            ]
          },
          "metadata": {
            "tags": []
          },
          "execution_count": 64
        }
      ]
    },
    {
      "cell_type": "code",
      "metadata": {
        "id": "KmmCQqnjm3N6",
        "outputId": "f9a3e3a2-9f4a-4596-e730-2f6e758d8f72",
        "colab": {
          "base_uri": "https://localhost:8080/"
        }
      },
      "source": [
        "x.shape, y.shape"
      ],
      "execution_count": 65,
      "outputs": [
        {
          "output_type": "execute_result",
          "data": {
            "text/plain": [
              "(torch.Size([512]), torch.Size([512]))"
            ]
          },
          "metadata": {
            "tags": []
          },
          "execution_count": 65
        }
      ]
    },
    {
      "cell_type": "code",
      "metadata": {
        "id": "CLNaRnNwm3OF"
      },
      "source": [
        "class CBOW(torch.nn.Module):\n",
        "    \n",
        "    def __init__(self, vocab_size, embedding_dim, pad_index):\n",
        "        \n",
        "        super().__init__()\n",
        "        \n",
        "        if pad_index > 0:\n",
        "            vocab_size += 1\n",
        "        \n",
        "        self.in_embedding = torch.nn.Embedding(num_embeddings=vocab_size, \n",
        "                                               embedding_dim=embedding_dim,\n",
        "                                               padding_idx=pad_index)\n",
        "        \n",
        "        self.out_embedding = torch.nn.Linear(in_features=embedding_dim,\n",
        "                                             out_features=vocab_size, bias=False)\n",
        "        \n",
        "    def forward(self, x):\n",
        "        \n",
        "        x = self.in_embedding(x).sum(dim=-2)\n",
        "        x = self.out_embedding(x)\n",
        "        \n",
        "        return x"
      ],
      "execution_count": 66,
      "outputs": []
    },
    {
      "cell_type": "markdown",
      "metadata": {
        "id": "ezZcmFIqm3OU"
      },
      "source": [
        "# Мы будем учить модель Skipgram\n",
        "Реализуйте ее"
      ]
    },
    {
      "cell_type": "code",
      "metadata": {
        "id": "lNnUVm34m3OW"
      },
      "source": [
        "class SkipGram(torch.nn.Module):\n",
        "  def __init__(self, vocab_size, embedding_dim):\n",
        "        \n",
        "        super().__init__()\n",
        "        \n",
        "        \n",
        "        self.in_embedding = torch.nn.Embedding(num_embeddings=vocab_size, \n",
        "                                               embedding_dim=embedding_dim)\n",
        "        \n",
        "        \n",
        "        self.out_embedding = torch.nn.Linear(in_features=embedding_dim,\n",
        "                                             out_features=vocab_size, bias=False)\n",
        "        \n",
        "  def forward(self, x):\n",
        "    \n",
        "    x = self.in_embedding(x)\n",
        "    x = self.out_embedding(x)\n",
        "        \n",
        "    return x"
      ],
      "execution_count": 67,
      "outputs": []
    },
    {
      "cell_type": "code",
      "metadata": {
        "id": "rc9Pp4xcm3Ox"
      },
      "source": [
        "# размерность эмбеддинга\n",
        "# маленькая, чтобы мы могли недолго поучить ворд2век и увидеть результаты\n",
        "EMBEDDING_DIM = 20"
      ],
      "execution_count": 68,
      "outputs": []
    },
    {
      "cell_type": "code",
      "metadata": {
        "id": "c4Gc0LO-m3PH"
      },
      "source": [
        "model = SkipGram(vocab_size=len(word2index), embedding_dim=EMBEDDING_DIM)"
      ],
      "execution_count": 69,
      "outputs": []
    },
    {
      "cell_type": "code",
      "metadata": {
        "id": "7c2BkeRwm3PS",
        "outputId": "e945eeb1-29f5-4b62-e160-818d46c47f16",
        "colab": {
          "base_uri": "https://localhost:8080/"
        }
      },
      "source": [
        "with torch.no_grad():\n",
        "    pred = model(x)\n",
        "\n",
        "pred.shape"
      ],
      "execution_count": 70,
      "outputs": [
        {
          "output_type": "execute_result",
          "data": {
            "text/plain": [
              "torch.Size([512, 13076])"
            ]
          },
          "metadata": {
            "tags": []
          },
          "execution_count": 70
        }
      ]
    },
    {
      "cell_type": "code",
      "metadata": {
        "id": "_zI78E34m3Po"
      },
      "source": [
        "optimizer = torch.optim.Adam(params=model.parameters(), lr=0.0001)\n",
        "\n",
        "# aka loss function\n",
        "criterion = torch.nn.CrossEntropyLoss()"
      ],
      "execution_count": 71,
      "outputs": []
    },
    {
      "cell_type": "markdown",
      "metadata": {
        "id": "wsWNN0hEm3P2"
      },
      "source": [
        "# Допишите обучалку"
      ]
    },
    {
      "cell_type": "code",
      "metadata": {
        "id": "YW6EJ2H_m3P4",
        "outputId": "95936643-8e5a-4de3-ccb6-2b25875c2ee7",
        "colab": {
          "base_uri": "https://localhost:8080/"
        }
      },
      "source": [
        "epochs = 5\n",
        "\n",
        "losses = []\n",
        "\n",
        "for n_epoch in range(epochs):\n",
        "\n",
        "  try:\n",
        "\n",
        "    progress_bar = tqdm(total=len(dataset_loader.dataset), desc='Epoch {}'.format(n_epoch + 1))\n",
        "    \n",
        "    for x, y in dataset_loader:\n",
        "\n",
        "      optimizer.zero_grad()\n",
        "      \n",
        "      pred = model(x)\n",
        "\n",
        "      loss = criterion(pred, y)\n",
        "\n",
        "      loss.backward()\n",
        "\n",
        "      optimizer.step()\n",
        "            \n",
        "      losses.append(loss.item())\n",
        "\n",
        "      progress_bar.set_postfix(loss=np.mean(losses[-100:]))\n",
        "\n",
        "      progress_bar.update(x.shape[0])\n",
        "\n",
        "    progress_bar.close()\n",
        "\n",
        "  except KeyboardInterrupt:\n",
        "\n",
        "        progress_bar.close()\n",
        "        break\n",
        "            \n"
      ],
      "execution_count": 73,
      "outputs": [
        {
          "output_type": "stream",
          "text": [
            "Epoch 1: 100%|██████████| 2983124/2983124 [08:16<00:00, 6010.50it/s, loss=9.06]\n",
            "Epoch 2: 100%|██████████| 2983124/2983124 [08:12<00:00, 6057.41it/s, loss=8.08]\n",
            "Epoch 3: 100%|██████████| 2983124/2983124 [08:16<00:00, 6004.44it/s, loss=7.6]\n",
            "Epoch 4: 100%|██████████| 2983124/2983124 [08:19<00:00, 5974.95it/s, loss=7.37]\n",
            "Epoch 5: 100%|██████████| 2983124/2983124 [08:22<00:00, 5936.51it/s, loss=7.27]\n"
          ],
          "name": "stderr"
        }
      ]
    },
    {
      "cell_type": "code",
      "metadata": {
        "id": "Bh66cOTVm3QJ",
        "outputId": "7ebddb33-d149-4f46-99f6-e013fd6dbcb4",
        "colab": {
          "base_uri": "https://localhost:8080/",
          "height": 294
        }
      },
      "source": [
        "plt.title('SkipGram Training Process')\n",
        "plt.xlabel('Iterations')\n",
        "plt.ylabel('Loss')\n",
        "plt.grid()\n",
        "plt.plot(losses)\n",
        "plt.show()"
      ],
      "execution_count": 74,
      "outputs": [
        {
          "output_type": "display_data",
          "data": {
            "image/png": "[encoded data removed]",
            "text/plain": [
              "<Figure size 432x288 with 1 Axes>"
            ]
          },
          "metadata": {
            "tags": [],
            "needs_background": "light"
          }
        }
      ]
    },
    {
      "cell_type": "code",
      "metadata": {
        "id": "YJ9nVEfdm3QV"
      },
      "source": [
        "# проверка, что хоть что-то выучилось\n",
        "assert np.mean(losses[-1000:]) < 7.5"
      ],
      "execution_count": 75,
      "outputs": []
    },
    {
      "cell_type": "code",
      "metadata": {
        "id": "a38seIlUm3Qo"
      },
      "source": [
        "embedding_matrix = model.in_embedding.weight.detach()"
      ],
      "execution_count": 76,
      "outputs": []
    },
    {
      "cell_type": "code",
      "metadata": {
        "id": "EbOj05ium3Q1"
      },
      "source": [
        "def cos_sim(embedding_matrix, token2id, word1, word2):\n",
        "    \n",
        "    i1 = token2id[word1]\n",
        "    i2 = token2id[word2]\n",
        "    \n",
        "    v1, v2 = embedding_matrix[i1], embedding_matrix[i2]\n",
        "    \n",
        "    v1_n = v1.div(v1.norm(keepdim=True))\n",
        "    v2_n = v2.div(v2.norm(keepdim=True))\n",
        "    \n",
        "    similarity = torch.dot(v1_n, v2_n).item()\n",
        "    \n",
        "    return similarity"
      ],
      "execution_count": 77,
      "outputs": []
    },
    {
      "cell_type": "markdown",
      "metadata": {
        "id": "eLBzRHKim3RB"
      },
      "source": [
        "# Косинусная близость\n",
        "От 0 до 1, где 0 - вектора абсолютно разные, где 1 - идентичные."
      ]
    },
    {
      "cell_type": "code",
      "metadata": {
        "id": "Dzr7sR_Qm3RD",
        "outputId": "61b95c6c-b60a-4786-9954-41349370dd3c",
        "colab": {
          "base_uri": "https://localhost:8080/"
        }
      },
      "source": [
        "cos_sim(embedding_matrix, word2index, 'день', 'месяц')"
      ],
      "execution_count": 78,
      "outputs": [
        {
          "output_type": "execute_result",
          "data": {
            "text/plain": [
              "0.6030651926994324"
            ]
          },
          "metadata": {
            "tags": []
          },
          "execution_count": 78
        }
      ]
    },
    {
      "cell_type": "code",
      "metadata": {
        "id": "7IMV1jy6m3RN",
        "outputId": "85c9fc1f-6034-4315-874c-23d6d3b69485",
        "colab": {
          "base_uri": "https://localhost:8080/"
        }
      },
      "source": [
        "cos_sim(embedding_matrix, word2index, 'минута', 'месяц')"
      ],
      "execution_count": 79,
      "outputs": [
        {
          "output_type": "execute_result",
          "data": {
            "text/plain": [
              "0.49744951725006104"
            ]
          },
          "metadata": {
            "tags": []
          },
          "execution_count": 79
        }
      ]
    },
    {
      "cell_type": "code",
      "metadata": {
        "id": "MmnNFGqLm3RZ",
        "outputId": "664d180f-ee9b-4be5-d7a2-d6b3a5702ebe",
        "colab": {
          "base_uri": "https://localhost:8080/"
        }
      },
      "source": [
        "cos_sim(embedding_matrix, word2index, 'сотрудник', 'сотрудница')"
      ],
      "execution_count": 98,
      "outputs": [
        {
          "output_type": "execute_result",
          "data": {
            "text/plain": [
              "0.417219340801239"
            ]
          },
          "metadata": {
            "tags": []
          },
          "execution_count": 98
        }
      ]
    },
    {
      "cell_type": "code",
      "metadata": {
        "id": "fW4SPn6im3Rl",
        "outputId": "313ae948-8f3e-4048-9dfc-498f01ee2436",
        "colab": {
          "base_uri": "https://localhost:8080/"
        }
      },
      "source": [
        "cos_sim(embedding_matrix, word2index, 'вклад', 'перевод')"
      ],
      "execution_count": 81,
      "outputs": [
        {
          "output_type": "execute_result",
          "data": {
            "text/plain": [
              "0.05500909686088562"
            ]
          },
          "metadata": {
            "tags": []
          },
          "execution_count": 81
        }
      ]
    },
    {
      "cell_type": "code",
      "metadata": {
        "id": "A_5XyLX2m3R0",
        "outputId": "7b0684bd-46fb-462d-a5f4-5034b7444cbf",
        "colab": {
          "base_uri": "https://localhost:8080/",
          "height": 34
        }
      },
      "source": [
        "random_word = random.choice(list(word2index.keys()))\n",
        "sim = cos_sim(embedding_matrix, word2index, 'день', random_word)\n",
        "'Косинусная близость слова \"день\" к случайному выбраному слову \"{}\" равна {:.3f}'.format(random_word, sim)"
      ],
      "execution_count": 82,
      "outputs": [
        {
          "output_type": "execute_result",
          "data": {
            "application/vnd.google.colaboratory.intrinsic+json": {
              "type": "string"
            },
            "text/plain": [
              "'Косинусная близость слова \"день\" к случайному выбраному слову \"формирование\" равна 0.312'"
            ]
          },
          "metadata": {
            "tags": []
          },
          "execution_count": 82
        }
      ]
    },
    {
      "cell_type": "code",
      "metadata": {
        "id": "Cm4grRMlm3SL"
      },
      "source": [
        "freq = {}\n",
        "\n",
        "for text in corpus:\n",
        "    for token in text:\n",
        "        if token in freq:\n",
        "            freq[token] += 1\n",
        "        else:\n",
        "            freq[token] = 1"
      ],
      "execution_count": 91,
      "outputs": []
    },
    {
      "cell_type": "code",
      "metadata": {
        "id": "P6PasnChm3SU"
      },
      "source": [
        "sorted_freq = [(k, freq[k]) for k in sorted(freq, key=freq.get, reverse=True)]\n",
        "top_sorted_freq = sorted_freq[0:200]"
      ],
      "execution_count": 92,
      "outputs": []
    },
    {
      "cell_type": "code",
      "metadata": {
        "id": "b9vm1CVFm3Sf",
        "outputId": "88df8dc7-99c1-4cab-9d29-3adacb3a5c3f",
        "colab": {
          "base_uri": "https://localhost:8080/"
        }
      },
      "source": [
        "tsne = TSNE(n_components=2, init='pca', random_state=42, verbose=2)\n",
        "reduced = tsne.fit_transform(embedding_matrix)"
      ],
      "execution_count": 93,
      "outputs": [
        {
          "output_type": "stream",
          "text": [
            "[t-SNE] Computing 91 nearest neighbors...\n",
            "[t-SNE] Indexed 13076 samples in 0.039s...\n",
            "[t-SNE] Computed neighbors for 13076 samples in 9.369s...\n",
            "[t-SNE] Computed conditional probabilities for sample 1000 / 13076\n",
            "[t-SNE] Computed conditional probabilities for sample 2000 / 13076\n",
            "[t-SNE] Computed conditional probabilities for sample 3000 / 13076\n",
            "[t-SNE] Computed conditional probabilities for sample 4000 / 13076\n",
            "[t-SNE] Computed conditional probabilities for sample 5000 / 13076\n",
            "[t-SNE] Computed conditional probabilities for sample 6000 / 13076\n",
            "[t-SNE] Computed conditional probabilities for sample 7000 / 13076\n",
            "[t-SNE] Computed conditional probabilities for sample 8000 / 13076\n",
            "[t-SNE] Computed conditional probabilities for sample 9000 / 13076\n",
            "[t-SNE] Computed conditional probabilities for sample 10000 / 13076\n",
            "[t-SNE] Computed conditional probabilities for sample 11000 / 13076\n",
            "[t-SNE] Computed conditional probabilities for sample 12000 / 13076\n",
            "[t-SNE] Computed conditional probabilities for sample 13000 / 13076\n",
            "[t-SNE] Computed conditional probabilities for sample 13076 / 13076\n",
            "[t-SNE] Mean sigma: 1.205983\n",
            "[t-SNE] Computed conditional probabilities in 0.675s\n",
            "[t-SNE] Iteration 50: error = 98.8852081, gradient norm = 0.0000006 (50 iterations in 8.478s)\n",
            "[t-SNE] Iteration 100: error = 98.8859558, gradient norm = 0.0000000 (50 iterations in 4.058s)\n",
            "[t-SNE] Iteration 100: gradient norm 0.000000. Finished.\n",
            "[t-SNE] KL divergence after 100 iterations with early exaggeration: 98.885956\n",
            "[t-SNE] Iteration 150: error = 5.7537279, gradient norm = 0.0000038 (50 iterations in 5.724s)\n",
            "[t-SNE] Iteration 200: error = 5.0140767, gradient norm = 0.0006820 (50 iterations in 8.241s)\n",
            "[t-SNE] Iteration 250: error = 4.8904600, gradient norm = 0.0003848 (50 iterations in 6.345s)\n",
            "[t-SNE] Iteration 300: error = 4.8050146, gradient norm = 0.0002660 (50 iterations in 6.307s)\n",
            "[t-SNE] Iteration 350: error = 4.7398157, gradient norm = 0.0002028 (50 iterations in 6.245s)\n",
            "[t-SNE] Iteration 400: error = 4.6880722, gradient norm = 0.0001597 (50 iterations in 6.397s)\n",
            "[t-SNE] Iteration 450: error = 4.6453776, gradient norm = 0.0001313 (50 iterations in 6.250s)\n",
            "[t-SNE] Iteration 500: error = 4.6092806, gradient norm = 0.0001099 (50 iterations in 6.197s)\n",
            "[t-SNE] Iteration 550: error = 4.5790758, gradient norm = 0.0000944 (50 iterations in 6.223s)\n",
            "[t-SNE] Iteration 600: error = 4.5533757, gradient norm = 0.0000801 (50 iterations in 6.192s)\n",
            "[t-SNE] Iteration 650: error = 4.5312891, gradient norm = 0.0000686 (50 iterations in 6.138s)\n",
            "[t-SNE] Iteration 700: error = 4.5123782, gradient norm = 0.0000620 (50 iterations in 6.174s)\n",
            "[t-SNE] Iteration 750: error = 4.4961643, gradient norm = 0.0000567 (50 iterations in 6.100s)\n",
            "[t-SNE] Iteration 800: error = 4.4824200, gradient norm = 0.0000518 (50 iterations in 6.175s)\n",
            "[t-SNE] Iteration 850: error = 4.4704785, gradient norm = 0.0000474 (50 iterations in 6.257s)\n",
            "[t-SNE] Iteration 900: error = 4.4601412, gradient norm = 0.0000475 (50 iterations in 6.466s)\n",
            "[t-SNE] Iteration 950: error = 4.4514542, gradient norm = 0.0000434 (50 iterations in 6.225s)\n",
            "[t-SNE] Iteration 1000: error = 4.4438992, gradient norm = 0.0000404 (50 iterations in 6.145s)\n",
            "[t-SNE] KL divergence after 1000 iterations: 4.443899\n"
          ],
          "name": "stdout"
        }
      ]
    },
    {
      "cell_type": "code",
      "metadata": {
        "id": "5UNPZR2dm3Sq"
      },
      "source": [
        "top_words = [a for a,_ in top_sorted_freq]"
      ],
      "execution_count": 94,
      "outputs": []
    },
    {
      "cell_type": "code",
      "metadata": {
        "id": "lmu3VVSHm3Sz"
      },
      "source": [
        "inds = [word2index[word] for word in top_words]\n",
        "x_coords = [coords[0] for coords in reduced[inds]]\n",
        "y_coords = [coords[1] for coords in reduced[inds]]"
      ],
      "execution_count": 95,
      "outputs": []
    },
    {
      "cell_type": "code",
      "metadata": {
        "id": "MbJacPpjm3S-",
        "outputId": "c13be6a1-3323-4a18-a053-62e9313b1097",
        "colab": {
          "base_uri": "https://localhost:8080/",
          "height": 1000
        }
      },
      "source": [
        "plt.figure(figsize=(20,20))\n",
        "for (x, y, word) in zip(x_coords, y_coords, top_words):\n",
        "    plt.scatter(x, y, marker='.', color='blue')\n",
        "    plt.text(x+0.01, y+0.01, word, fontsize=9)\n",
        "plt.show()"
      ],
      "execution_count": 97,
      "outputs": [
        {
          "output_type": "display_data",
          "data": {
            "image/png": "[encoded data removed]",
            "text/plain": [
              "<Figure size 1440x1440 with 1 Axes>"
            ]
          },
          "metadata": {
            "tags": [],
            "needs_background": "light"
          }
        }
      ]
    },
    {
      "cell_type": "code",
      "metadata": {
        "id": "li3SKCxJm3TJ"
      },
      "source": [
        ""
      ],
      "execution_count": null,
      "outputs": []
    }
  ]
}
